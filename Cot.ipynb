{
 "cells": [
  {
   "cell_type": "code",
   "execution_count": 1,
   "id": "866ecbd9",
   "metadata": {},
   "outputs": [
    {
     "name": "stderr",
     "output_type": "stream",
     "text": [
      "All PyTorch model weights were used when initializing TFT5ForConditionalGeneration.\n",
      "\n",
      "All the weights of TFT5ForConditionalGeneration were initialized from the PyTorch model.\n",
      "If your task is similar to the task the model of the checkpoint was trained on, you can already use TFT5ForConditionalGeneration for predictions without further training.\n",
      "Hardware accelerator e.g. GPU is available in the environment, but no `device` argument is passed to the `Pipeline` object. Model will be on CPU.\n",
      "WARNING: All log messages before absl::InitializeLog() is called are written to STDERR\n",
      "I0000 00:00:1723748476.188666 1722328 service.cc:146] XLA service 0x600003af6e00 initialized for platform Host (this does not guarantee that XLA will be used). Devices:\n",
      "I0000 00:00:1723748476.189359 1722328 service.cc:154]   StreamExecutor device (0): Host, Default Version\n",
      "2024-08-15 14:01:16.230052: I tensorflow/compiler/mlir/tensorflow/utils/dump_mlir_util.cc:268] disabling MLIR crash reproducer, set env var `MLIR_CRASH_REPRODUCER_DIRECTORY` to enable.\n",
      "I0000 00:00:1723748476.421029 1722328 device_compiler.h:188] Compiled cluster using XLA!  This line is logged at most once for the lifetime of the process.\n"
     ]
    },
    {
     "name": "stdout",
     "output_type": "stream",
     "text": [
      "CSV file 'summaries_metrics_automated.csv' created successfully.\n"
     ]
    }
   ],
   "source": [
    "import csv\n",
    "import re\n",
    "from transformers import TFAutoModelForSeq2SeqLM, AutoTokenizer, pipeline\n",
    "\n",
    "\n",
    "model = TFAutoModelForSeq2SeqLM.from_pretrained(\"t5-small\")\n",
    "tokenizer = AutoTokenizer.from_pretrained(\"t5-small\")\n",
    "\n",
    "\n",
    "summarizer = pipeline(\"summarization\", model=model, tokenizer=tokenizer)\n",
    "\n",
    "\n",
    "executive_summary = \"\"\"\n",
    "The introduction of the new antihypertensive medication, Hypertrol, has shown promising results in controlling blood pressure among patients with Stage 2 Hypertension. Over a 12-month period, 75% of patients experienced a significant reduction in systolic blood pressure (average reduction of 20 mmHg) and 70% achieved the target blood pressure of <140/90 mmHg. The medication was generally well-tolerated, with minimal side effects reported.\n",
    "\"\"\"\n",
    "\n",
    "results_section = \"\"\"\n",
    "Systolic Blood Pressure: The average reduction in systolic blood pressure was 20 mmHg in the Hypertrol group, compared to 5 mmHg in the placebo group. Diastolic Blood Pressure: The average reduction in diastolic blood pressure was 10 mmHg in the Hypertrol group, compared to 3 mmHg in the placebo group. Target Achievement: 70% of patients in the Hypertrol group achieved the target blood pressure of <140/90 mmHg.\n",
    "Adverse Events: Mild dizziness (15% of patients), fatigue (10% of patients), and nausea (8% of patients) were the most commonly reported side effects. One case of severe hypotension was reported, leading to discontinuation of the medication.\n",
    "\"\"\"\n",
    "\n",
    "discussion_section = \"\"\"\n",
    "The results indicate that Hypertrol is highly effective in lowering blood pressure in patients with Stage 2 Hypertension. The medication was well-tolerated, with a low incidence of serious adverse events. These findings suggest that Hypertrol could be a valuable addition to the current antihypertensive treatment options.\n",
    "\"\"\"\n",
    "\n",
    "\n",
    "executive_summary_summary = summarizer(executive_summary, max_length=50, min_length=25, do_sample=False)[0]['summary_text']\n",
    "results_summary = summarizer(results_section, max_length=50, min_length=25, do_sample=False)[0]['summary_text']\n",
    "discussion_summary = summarizer(discussion_section, max_length=50, min_length=25, do_sample=False)[0]['summary_text']\n",
    "\n",
    "\n",
    "def extract_metrics(summary, category):\n",
    "    metrics = {\n",
    "        \"Patients with reduced BP (%)\": r\"(\\d+)% of patients experienced a significant reduction in systolic blood pressure\",\n",
    "        \"Patients achieved target BP (%)\": r\"(\\d+)% achieved the target blood pressure\",\n",
    "        \"Average systolic BP reduction (mmHg)\": r\"average reduction in systolic blood pressure was (\\d+) mmHg\",\n",
    "        \"Average diastolic BP reduction (mmHg)\": r\"average reduction in diastolic blood pressure was (\\d+) mmHg\",\n",
    "        \"Placebo systolic BP reduction (mmHg)\": r\"placebo group.*?(\\d+) mmHg\",\n",
    "        \"Placebo diastolic BP reduction (mmHg)\": r\"placebo group.*?(\\d+) mmHg\",\n",
    "        \"Patients with adverse events (%)\": r\"(\\d+)% of patients\",\n",
    "        \"Overall effectiveness\": r\"effectiveness.*?(\\w+)\",\n",
    "        \"Tolerance level\": r\"well-tolerated, with a (\\w+) incidence of serious adverse events\"\n",
    "    }\n",
    "    \n",
    "    extracted_data = []\n",
    "    for metric, pattern in metrics.items():\n",
    "        match = re.search(pattern, summary, re.IGNORECASE)\n",
    "        if match:\n",
    "            extracted_data.append({\"Category\": category, \"Metric\": metric, \"Value\": match.group(1)})\n",
    "    return extracted_data\n",
    "\n",
    "\n",
    "data = extract_metrics(executive_summary_summary, \"Executive Summary\") + \\\n",
    "       extract_metrics(results_summary, \"Results\") + \\\n",
    "       extract_metrics(discussion_summary, \"Discussion\")\n",
    "\n",
    "filename = 'summaries_metrics_automated.csv'\n",
    "\n",
    "with open(filename, mode='w', newline='') as file:\n",
    "    writer = csv.DictWriter(file, fieldnames=[\"Category\", \"Metric\", \"Value\"])\n",
    "    \n",
    "    # Write the header\n",
    "    writer.writeheader()\n",
    "    \n",
    "    # Write the data\n",
    "    for row in data:\n",
    "        writer.writerow(row)\n",
    "\n",
    "print(f\"CSV file '{filename}' created successfully.\")\n"
   ]
  },
  {
   "cell_type": "code",
   "execution_count": null,
   "id": "2d9642c9",
   "metadata": {},
   "outputs": [],
   "source": []
  }
 ],
 "metadata": {
  "kernelspec": {
   "display_name": "Python 3 (ipykernel)",
   "language": "python",
   "name": "python3"
  },
  "language_info": {
   "codemirror_mode": {
    "name": "ipython",
    "version": 3
   },
   "file_extension": ".py",
   "mimetype": "text/x-python",
   "name": "python",
   "nbconvert_exporter": "python",
   "pygments_lexer": "ipython3",
   "version": "3.11.5"
  }
 },
 "nbformat": 4,
 "nbformat_minor": 5
}
